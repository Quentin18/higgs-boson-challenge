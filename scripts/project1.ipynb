{
 "cells": [
  {
   "cell_type": "code",
   "execution_count": 2,
   "metadata": {
    "collapsed": true
   },
   "outputs": [],
   "source": [
    "# Useful starting lines\n",
    "%matplotlib inline\n",
    "import numpy as np\n",
    "import matplotlib.pyplot as plt\n",
    "%load_ext autoreload\n",
    "%autoreload 2"
   ]
  },
  {
   "cell_type": "markdown",
   "metadata": {},
   "source": [
    "## Load the training data into feature matrix, class labels, and event ids:"
   ]
  },
  {
   "cell_type": "code",
   "execution_count": 3,
   "metadata": {
    "collapsed": false
   },
   "outputs": [],
   "source": [
    "import sys\n",
    "sys.path.append('../src')\n",
    "from implementations import *\n",
    "from proj1_helpers import *\n",
    "\n",
    "DATA_TRAIN_PATH = '../../train.csv'\n",
    "y, tX, ids = load_csv_data(DATA_TRAIN_PATH,label_b=-1)\n",
    "\n",
    "\n",
    "\n"
   ]
  },
  {
   "cell_type": "code",
   "execution_count": 4,
   "metadata": {},
   "outputs": [
    {
     "name": "stdout",
     "output_type": "stream",
     "text": [
      "Porprtion label a = 0.342668 \n",
      "Proportion label b = 0.657332\n",
      "[0. 0. 0. 0. 0. 0. 0. 0. 0. 0. 0. 0. 0. 0. 0. 0. 0. 0. 0. 0. 0. 0. 0. 0.\n",
      " 0. 0. 0. 0. 0. 0.]\n",
      "[25 24 27 14 17 28 18 15 20  0  7 26  8  2 19 16 23 29 22 21  9  6  5 12\n",
      "  4  3 10 13 11  1]\n"
     ]
    }
   ],
   "source": [
    "from data import *\n",
    "get_proportion(y)\n",
    "tX=replace_empty_with_mean(tX)\n",
    "#verify replacement\n",
    "print(empty_features(tX))\n",
    "tX=standardize(tX)\n",
    "tX_a, tX_b=split_in_labels(y,tX,label_b=-1)\n",
    "F=anova_test(tX_a,tX_b)\n",
    "#Can remove features with remove_features...\n"
   ]
  },
  {
   "cell_type": "code",
   "execution_count": 5,
   "metadata": {},
   "outputs": [
    {
     "name": "stdout",
     "output_type": "stream",
     "text": [
      "[ 9.63457999e-03 -2.54719228e-01 -2.63502968e-01 -1.10181154e-03\n",
      "  2.18423830e-02  9.00537820e-02  4.83490582e-03  2.82008766e-01\n",
      " -2.81502579e-02 -3.29264231e+02 -1.88141151e-01  1.18065030e-01\n",
      "  7.66172594e-02  6.39633688e+01 -7.79460518e-04 -8.30656807e-04\n",
      "  6.30792427e+01 -8.61168706e-04  2.51791336e-03  1.03659311e-01\n",
      "  9.33786178e-04 -4.70019023e-02  4.17575954e-02 -4.75783461e-02\n",
      "  6.50726442e-04  1.88755850e-04 -3.66001846e-02  1.55837342e-03\n",
      " -1.74318668e-03  2.78931485e+02] 0.38991616860941997\n"
     ]
    }
   ],
   "source": [
    "w, loss = least_squares(y, tX)\n",
    "#initial_w=w\n",
    "#max_iters=1000\n",
    "#gamma=0.05\n",
    "#w,loss=least_squares_GD(y, tX, initial_w, max_iters, gamma)\n",
    "print(w,loss)"
   ]
  },
  {
   "cell_type": "markdown",
   "metadata": {},
   "source": [
    "## Least Squares"
   ]
  },
  {
   "cell_type": "markdown",
   "metadata": {},
   "source": [
    "## Generate predictions and save ouput in csv format for submission:"
   ]
  },
  {
   "cell_type": "code",
   "execution_count": 10,
   "metadata": {
    "collapsed": false
   },
   "outputs": [],
   "source": [
    "DATA_TEST_PATH = '../../test.csv'\n",
    "_, tX_test, ids_test = load_csv_data(DATA_TEST_PATH)\n",
    "tx_test=replace_empty_with_mean(tX_test)\n",
    "tX_test=standardize(tX_test)\n"
   ]
  },
  {
   "cell_type": "code",
   "execution_count": 11,
   "metadata": {
    "collapsed": false
   },
   "outputs": [
    {
     "name": "stdout",
     "output_type": "stream",
     "text": [
      "Porprtion label a = 0.47041732513489065 \n",
      "Proportion label b = 0.5295826748651093\n"
     ]
    }
   ],
   "source": [
    "OUTPUT_PATH = '../../out/predictions.csv'\n",
    "y_pred = predict_labels(w, tX_test,label_b=-1)\n",
    "get_proportion(y_pred)\n",
    "create_csv_submission(ids_test, y_pred, OUTPUT_PATH)"
   ]
  },
  {
   "cell_type": "code",
   "execution_count": null,
   "metadata": {},
   "outputs": [],
   "source": []
  }
 ],
 "metadata": {
  "anaconda-cloud": {},
  "interpreter": {
   "hash": "56f54e28b6592e1d9a876552792ff8cec11e0f9360817677df41e70d20983d60"
  },
  "kernelspec": {
   "display_name": "Python 3.8.3 64-bit",
   "name": "python3"
  },
  "language_info": {
   "codemirror_mode": {
    "name": "ipython",
    "version": 3
   },
   "file_extension": ".py",
   "mimetype": "text/x-python",
   "name": "python",
   "nbconvert_exporter": "python",
   "pygments_lexer": "ipython3",
   "version": "3.8.3"
  }
 },
 "nbformat": 4,
 "nbformat_minor": 0
}
