{
 "cells": [
  {
   "cell_type": "markdown",
   "metadata": {},
   "source": [
    "# Cross validation"
   ]
  },
  {
   "cell_type": "code",
   "execution_count": 1,
   "metadata": {},
   "outputs": [],
   "source": [
    "import matplotlib.pyplot as plt\n",
    "import numpy as np\n",
    "%matplotlib inline\n",
    "%reload_ext autoreload\n",
    "%autoreload 2"
   ]
  },
  {
   "cell_type": "code",
   "execution_count": 3,
   "metadata": {},
   "outputs": [],
   "source": [
    "# Import methods from scripts/\n",
    "from path import (add_src_to_path, create_out_dir, extract_archives,\n",
    "                  DATA_TRAIN_PATH)\n",
    "from proj1_helpers import load_csv_data\n",
    "\n",
    "# Add src to path to import implementations\n",
    "add_src_to_path()\n",
    "\n",
    "# Import functions from src/\n",
    "from cross_validation import get_best_degree\n",
    "from print_utils import print_shapes, print_shapes_by_jet\n",
    "from split_data import split_by_jet, split_train_test"
   ]
  },
  {
   "cell_type": "code",
   "execution_count": 4,
   "metadata": {},
   "outputs": [],
   "source": [
    "# Extract archives if needed\n",
    "extract_archives()\n",
    "\n",
    "# Create output directory if needed\n",
    "create_out_dir()"
   ]
  },
  {
   "cell_type": "code",
   "execution_count": 5,
   "metadata": {},
   "outputs": [
    {
     "name": "stdout",
     "output_type": "stream",
     "text": [
      "Shape of y: (250000,)\n",
      "Shape of x: (250000, 30)\n"
     ]
    }
   ],
   "source": [
    "# Load the data\n",
    "y, x, ids = load_csv_data(DATA_TRAIN_PATH, sub_sample=False, label_b=0)\n",
    "print_shapes(y, x)"
   ]
  },
  {
   "cell_type": "code",
   "execution_count": 6,
   "metadata": {},
   "outputs": [
    {
     "name": "stdout",
     "output_type": "stream",
     "text": [
      "Training data:\n",
      "Shape of y: (200000,)\n",
      "Shape of x: (200000, 30)\n",
      "Test data:\n",
      "Shape of y: (50000,)\n",
      "Shape of x: (50000, 30)\n"
     ]
    }
   ],
   "source": [
    "# Split data\n",
    "x_tr, x_te, y_tr, y_te = split_train_test(y, x)\n",
    "print('Training data:')\n",
    "print_shapes(y_tr, x_tr)\n",
    "print('Test data:')\n",
    "print_shapes(y_te, x_te)"
   ]
  },
  {
   "cell_type": "code",
   "execution_count": 7,
   "metadata": {},
   "outputs": [
    {
     "name": "stdout",
     "output_type": "stream",
     "text": [
      "Jet = 0:\n",
      "Shape of y: (79923,)\n",
      "Shape of x: (79923, 18)\n",
      "Jet = 1:\n",
      "Shape of y: (61985,)\n",
      "Shape of x: (61985, 22)\n",
      "Jet = 2:\n",
      "Shape of y: (40333,)\n",
      "Shape of x: (40333, 29)\n",
      "Jet = 3:\n",
      "Shape of y: (17759,)\n",
      "Shape of x: (17759, 29)\n"
     ]
    }
   ],
   "source": [
    "# Split train data by jet\n",
    "y_tr_by_jet, x_tr_by_jet = split_by_jet(y_tr, x_tr)\n",
    "print_shapes_by_jet(y_tr_by_jet, x_tr_by_jet)"
   ]
  },
  {
   "cell_type": "code",
   "execution_count": 8,
   "metadata": {},
   "outputs": [
    {
     "name": "stdout",
     "output_type": "stream",
     "text": [
      "Jet = 0:\n",
      "Shape of y: (19990,)\n",
      "Shape of x: (19990, 18)\n",
      "Jet = 1:\n",
      "Shape of y: (15559,)\n",
      "Shape of x: (15559, 22)\n",
      "Jet = 2:\n",
      "Shape of y: (10046,)\n",
      "Shape of x: (10046, 29)\n",
      "Jet = 3:\n",
      "Shape of y: (4405,)\n",
      "Shape of x: (4405, 29)\n"
     ]
    }
   ],
   "source": [
    "# Split test data by jet\n",
    "y_te_by_jet, x_te_by_jet = split_by_jet(y_te, x_te)\n",
    "print_shapes_by_jet(y_te_by_jet, x_te_by_jet)"
   ]
  },
  {
   "cell_type": "code",
   "execution_count": 10,
   "metadata": {},
   "outputs": [
    {
     "name": "stdout",
     "output_type": "stream",
     "text": [
      "Jet = 0:\n",
      "[Start] Cross validation\n",
      "[CP] Degree = 8, Accuracy = 0.726\n",
      "[CP] Degree = 9, Accuracy = 0.722\n",
      "[End] Cross validation (time:  155.25 s.)\n",
      "[Results] Best degree: 9\n",
      "Jet = 1:\n",
      "[Start] Cross validation\n",
      "[CP] Degree = 8, Accuracy = 0.668\n",
      "[CP] Degree = 9, Accuracy = 0.664\n",
      "[End] Cross validation (time:  122.60 s.)\n",
      "[Results] Best degree: 9\n",
      "Jet = 2:\n",
      "[Start] Cross validation\n",
      "[CP] Degree = 8, Accuracy = 0.707\n",
      "[CP] Degree = 9, Accuracy = 0.705\n",
      "[End] Cross validation (time:  108.40 s.)\n",
      "[Results] Best degree: 9\n",
      "Jet = 3:\n",
      "[Start] Cross validation\n",
      "[CP] Degree = 8, Accuracy = 0.665\n",
      "[CP] Degree = 9, Accuracy = 0.664\n",
      "[End] Cross validation (time:  51.11 s.)\n",
      "[Results] Best degree: 9\n"
     ]
    }
   ],
   "source": [
    "# Cross validation for degree by jet\n",
    "gamma = 1e-10\n",
    "degrees = range(8, 10)\n",
    "for i, x_tr_jet, y_tr_jet in zip(\n",
    "    range(len(x_tr_by_jet)), x_tr_by_jet, y_tr_by_jet):\n",
    "    print(f'Jet = {i}:')\n",
    "    degree = get_best_degree(y_tr_jet, x_tr_jet, gamma, degrees, verbose=True)"
   ]
  }
 ],
 "metadata": {
  "interpreter": {
   "hash": "916dbcbb3f70747c44a77c7bcd40155683ae19c65e1c03b4aa3499c5328201f1"
  },
  "kernelspec": {
   "display_name": "Python 3.8.10 64-bit",
   "name": "python3"
  },
  "language_info": {
   "codemirror_mode": {
    "name": "ipython",
    "version": 3
   },
   "file_extension": ".py",
   "mimetype": "text/x-python",
   "name": "python",
   "nbconvert_exporter": "python",
   "pygments_lexer": "ipython3",
   "version": "3.8.10"
  },
  "orig_nbformat": 4
 },
 "nbformat": 4,
 "nbformat_minor": 2
}
