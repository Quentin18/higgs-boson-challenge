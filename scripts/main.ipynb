{
 "cells": [
  {
   "cell_type": "markdown",
   "metadata": {},
   "source": [
    "# Higgs Boson Machine Learning Challenge"
   ]
  },
  {
   "cell_type": "code",
   "execution_count": 1,
   "metadata": {},
   "outputs": [],
   "source": [
    "import matplotlib.pyplot as plt\n",
    "import numpy as np\n",
    "%matplotlib inline\n",
    "%reload_ext autoreload\n",
    "%autoreload 2"
   ]
  },
  {
   "cell_type": "code",
   "execution_count": 2,
   "metadata": {},
   "outputs": [],
   "source": [
    "# Import methods from scripts/\n",
    "from path import (add_src_to_path, create_out_dir, extract_archives,\n",
    "                  DATA_TRAIN_PATH)\n",
    "from proj1_helpers import load_csv_data, predict_labels\n",
    "\n",
    "# Add src to path to import implementations\n",
    "add_src_to_path()\n",
    "\n",
    "# Import functions from src/\n",
    "from clean_data import clean_data_by_jet, get_columns_to_remove_by_jet\n",
    "from implementations import logistic_regression\n",
    "from metrics import accuracy_score, confusion_matrix, get_proportions\n",
    "from plot_utils import plot_confusion_matrix, plot_counts\n",
    "from print_utils import print_shapes, print_shapes_by_jet\n",
    "from split_data import split_by_jet, split_train_test"
   ]
  },
  {
   "cell_type": "code",
   "execution_count": 3,
   "metadata": {},
   "outputs": [],
   "source": [
    "# Extract archives if needed\n",
    "extract_archives()\n",
    "\n",
    "# Create output directory if needed\n",
    "create_out_dir()"
   ]
  },
  {
   "cell_type": "code",
   "execution_count": 4,
   "metadata": {},
   "outputs": [
    {
     "name": "stdout",
     "output_type": "stream",
     "text": [
      "Shape of y: (250000,)\n",
      "Shape of x: (250000, 30)\n"
     ]
    }
   ],
   "source": [
    "# Load the data\n",
    "y, x, ids = load_csv_data(DATA_TRAIN_PATH, sub_sample=False, label_b=0)\n",
    "print_shapes(y, x)"
   ]
  },
  {
   "cell_type": "code",
   "execution_count": 5,
   "metadata": {},
   "outputs": [
    {
     "name": "stdout",
     "output_type": "stream",
     "text": [
      "Proportions: {0: 0.657332, 1: 0.342668}\n"
     ]
    },
    {
     "data": {
      "image/png": "[encoded data removed]",
      "text/plain": [
       "<Figure size 360x360 with 1 Axes>"
      ]
     },
     "metadata": {
      "needs_background": "light"
     },
     "output_type": "display_data"
    }
   ],
   "source": [
    "# Get proportions\n",
    "proportions = get_proportions(y)\n",
    "print('Proportions:', proportions)\n",
    "\n",
    "# Plot counts\n",
    "plot_counts(y, title='Number of non-Boson and Boson observations')"
   ]
  },
  {
   "cell_type": "code",
   "execution_count": 6,
   "metadata": {},
   "outputs": [
    {
     "name": "stdout",
     "output_type": "stream",
     "text": [
      "Jet = 0:\n",
      "Shape of y: (99913,)\n",
      "Shape of x: (99913, 29)\n",
      "Jet = 1:\n",
      "Shape of y: (77544,)\n",
      "Shape of x: (77544, 29)\n",
      "Jet = 2:\n",
      "Shape of y: (50379,)\n",
      "Shape of x: (50379, 29)\n",
      "Jet = 3:\n",
      "Shape of y: (22164,)\n",
      "Shape of x: (22164, 29)\n"
     ]
    }
   ],
   "source": [
    "# Split the data by jet\n",
    "JET_COL = 22\n",
    "MAX_JET = 3\n",
    "y_by_jet, x_by_jet = split_by_jet(y, x, JET_COL, MAX_JET, clean=False)\n",
    "print_shapes_by_jet(y_by_jet, x_by_jet)"
   ]
  },
  {
   "cell_type": "code",
   "execution_count": 7,
   "metadata": {},
   "outputs": [
    {
     "data": {
      "image/png": "[encoded data removed]",
      "text/plain": [
       "<Figure size 720x360 with 4 Axes>"
      ]
     },
     "metadata": {
      "needs_background": "light"
     },
     "output_type": "display_data"
    }
   ],
   "source": [
    "# Plot counts\n",
    "fig, axs = plt.subplots(ncols=4, figsize=(10, 5))\n",
    "for i, y_jet, ax in zip(range(MAX_JET + 1), y_by_jet, axs):\n",
    "    plot_counts(y_jet, f'Jet = {i}', ax)\n",
    "plt.tight_layout()"
   ]
  },
  {
   "cell_type": "code",
   "execution_count": 8,
   "metadata": {},
   "outputs": [
    {
     "name": "stdout",
     "output_type": "stream",
     "text": [
      "Jet = 0: [ 4  5  6 12 22 23 24 25 26 27 28]\n",
      "Jet = 1: [ 4  5  6 12 25 26 27]\n",
      "Jet = 2: []\n",
      "Jet = 3: []\n"
     ]
    }
   ],
   "source": [
    "# Get columns to remove by jet\n",
    "cols_to_remove_by_jet = get_columns_to_remove_by_jet(x_by_jet)\n",
    "for i in range(MAX_JET + 1):\n",
    "    print(f'Jet = {i}:', cols_to_remove_by_jet[i])"
   ]
  },
  {
   "cell_type": "code",
   "execution_count": 9,
   "metadata": {},
   "outputs": [
    {
     "name": "stdout",
     "output_type": "stream",
     "text": [
      "Jet = 0:\n",
      "Shape of y: (99913,)\n",
      "Shape of x: (99913, 18)\n",
      "Jet = 1:\n",
      "Shape of y: (77544,)\n",
      "Shape of x: (77544, 22)\n",
      "Jet = 2:\n",
      "Shape of y: (50379,)\n",
      "Shape of x: (50379, 29)\n",
      "Jet = 3:\n",
      "Shape of y: (22164,)\n",
      "Shape of x: (22164, 29)\n"
     ]
    }
   ],
   "source": [
    "# Clean data by jet\n",
    "clean_data_by_jet(x_by_jet)\n",
    "print_shapes_by_jet(y_by_jet, x_by_jet)"
   ]
  },
  {
   "cell_type": "code",
   "execution_count": 10,
   "metadata": {},
   "outputs": [
    {
     "name": "stdout",
     "output_type": "stream",
     "text": [
      "Training data:\n",
      "Shape of y: (200000,)\n",
      "Shape of x: (200000, 30)\n",
      "Test data:\n",
      "Shape of y: (50000,)\n",
      "Shape of x: (50000, 30)\n"
     ]
    }
   ],
   "source": [
    "# Split data\n",
    "SPLIT_RATIO = 0.8\n",
    "x_tr, x_te, y_tr, y_te = split_train_test(y, x, SPLIT_RATIO)\n",
    "print('Training data:')\n",
    "print_shapes(y_tr, x_tr)\n",
    "print('Test data:')\n",
    "print_shapes(y_te, x_te)"
   ]
  },
  {
   "cell_type": "code",
   "execution_count": 11,
   "metadata": {},
   "outputs": [
    {
     "name": "stdout",
     "output_type": "stream",
     "text": [
      "Jet = 0:\n",
      "Shape of y: (79923,)\n",
      "Shape of x: (79923, 18)\n",
      "Jet = 1:\n",
      "Shape of y: (61985,)\n",
      "Shape of x: (61985, 22)\n",
      "Jet = 2:\n",
      "Shape of y: (40333,)\n",
      "Shape of x: (40333, 29)\n",
      "Jet = 3:\n",
      "Shape of y: (17759,)\n",
      "Shape of x: (17759, 29)\n"
     ]
    }
   ],
   "source": [
    "# Split train data by jet\n",
    "y_tr_by_jet, x_tr_by_jet = split_by_jet(y_tr, x_tr, clean=True)\n",
    "print_shapes_by_jet(y_tr_by_jet, x_tr_by_jet)"
   ]
  },
  {
   "cell_type": "code",
   "execution_count": 12,
   "metadata": {},
   "outputs": [
    {
     "name": "stdout",
     "output_type": "stream",
     "text": [
      "Jet = 0:\n",
      "Shape of y: (19990,)\n",
      "Shape of x: (19990, 18)\n",
      "Jet = 1:\n",
      "Shape of y: (15559,)\n",
      "Shape of x: (15559, 22)\n",
      "Jet = 2:\n",
      "Shape of y: (10046,)\n",
      "Shape of x: (10046, 29)\n",
      "Jet = 3:\n",
      "Shape of y: (4405,)\n",
      "Shape of x: (4405, 29)\n"
     ]
    }
   ],
   "source": [
    "# Split test data by jet\n",
    "y_te_by_jet, x_te_by_jet = split_by_jet(y_te, x_te)\n",
    "clean_data_by_jet(x_te_by_jet)\n",
    "print_shapes_by_jet(y_te_by_jet, x_te_by_jet)"
   ]
  },
  {
   "cell_type": "code",
   "execution_count": 13,
   "metadata": {},
   "outputs": [
    {
     "name": "stdout",
     "output_type": "stream",
     "text": [
      "Jet = 0:\n",
      "Iter: 00000/2000 - Loss: 46549.94\n",
      "Iter: 00100/2000 - Loss: 32292.60\n",
      "Iter: 00200/2000 - Loss: 31650.40\n",
      "Iter: 00300/2000 - Loss: 31405.87\n",
      "Iter: 00400/2000 - Loss: 31299.28\n",
      "Iter: 00500/2000 - Loss: 31249.76\n",
      "Iter: 00600/2000 - Loss: 31225.77\n",
      "Iter: 00700/2000 - Loss: 31213.84\n",
      "Iter: 00800/2000 - Loss: 31207.79\n",
      "Iter: 00900/2000 - Loss: 31204.69\n",
      "Iter: 01000/2000 - Loss: 31203.09\n",
      "Iter: 01100/2000 - Loss: 31202.26\n",
      "Iter: 01200/2000 - Loss: 31201.82\n",
      "Iter: 01300/2000 - Loss: 31201.59\n",
      "Iter: 01400/2000 - Loss: 31201.47\n",
      "Iter: 01500/2000 - Loss: 31201.41\n",
      "Iter: 01600/2000 - Loss: 31201.38\n",
      "Iter: 01700/2000 - Loss: 31201.36\n",
      "Iter: 01800/2000 - Loss: 31201.35\n",
      "Iter: 01900/2000 - Loss: 31201.35\n",
      "[-1.81042841e+00 -5.80544726e-02 -4.34104971e-01 -2.92647102e+00\n",
      "  1.84599670e-02  2.10636935e+00  1.84585443e-02  8.37763116e-01\n",
      " -1.14155422e+00 -8.50451824e-03  4.44155222e-01  3.32079506e-03\n",
      "  2.00042235e-03  8.92120319e-01  1.93158140e-02  4.29917751e-05\n",
      "  4.18632604e-03 -2.38255593e-02  1.04841964e-01]\n",
      "Jet = 1:\n",
      "Iter: 00000/2000 - Loss: 39590.98\n",
      "Iter: 00100/2000 - Loss: 33655.99\n",
      "Iter: 00200/2000 - Loss: 33527.26\n",
      "Iter: 00300/2000 - Loss: 33500.51\n",
      "Iter: 00400/2000 - Loss: 33492.86\n",
      "Iter: 00500/2000 - Loss: 33490.36\n",
      "Iter: 00600/2000 - Loss: 33489.50\n",
      "Iter: 00700/2000 - Loss: 33489.19\n",
      "Iter: 00800/2000 - Loss: 33489.08\n",
      "Iter: 00900/2000 - Loss: 33489.04\n",
      "Iter: 01000/2000 - Loss: 33489.02\n",
      "Iter: 01100/2000 - Loss: 33489.02\n",
      "Iter: 01200/2000 - Loss: 33489.01\n",
      "Iter: 01300/2000 - Loss: 33489.01\n",
      "Iter: 01400/2000 - Loss: 33489.01\n",
      "Iter: 01500/2000 - Loss: 33489.01\n",
      "Iter: 01600/2000 - Loss: 33489.01\n",
      "Iter: 01700/2000 - Loss: 33489.01\n",
      "Iter: 01800/2000 - Loss: 33489.01\n",
      "Iter: 01900/2000 - Loss: 33489.01\n",
      "[-0.79706846  0.18649733 -0.5387162  -1.03565897 -0.02104394  0.91035557\n",
      "  0.16630216  0.38716459 -0.63209374  0.31035148  0.44529091  0.01467007\n",
      " -0.01150944  0.74136062 -0.02107072  0.00267737  0.1129968   0.00478264\n",
      " -0.13582902 -0.00476415 -0.00794045 -0.00311449 -0.0047603 ]\n",
      "Jet = 2:\n",
      "Iter: 00000/2000 - Loss: 25197.94\n",
      "Iter: 00100/2000 - Loss: 21041.62\n",
      "Iter: 00200/2000 - Loss: 20826.91\n",
      "Iter: 00300/2000 - Loss: 20752.83\n",
      "Iter: 00400/2000 - Loss: 20720.16\n",
      "Iter: 00500/2000 - Loss: 20704.10\n",
      "Iter: 00600/2000 - Loss: 20695.71\n",
      "Iter: 00700/2000 - Loss: 20691.17\n",
      "Iter: 00800/2000 - Loss: 20688.64\n",
      "Iter: 00900/2000 - Loss: 20687.21\n",
      "Iter: 01000/2000 - Loss: 20686.39\n",
      "Iter: 01100/2000 - Loss: 20685.92\n",
      "Iter: 01200/2000 - Loss: 20685.64\n",
      "Iter: 01300/2000 - Loss: 20685.48\n",
      "Iter: 01400/2000 - Loss: 20685.38\n",
      "Iter: 01500/2000 - Loss: 20685.33\n",
      "Iter: 01600/2000 - Loss: 20685.30\n",
      "Iter: 01700/2000 - Loss: 20685.28\n",
      "Iter: 01800/2000 - Loss: 20685.26\n",
      "Iter: 01900/2000 - Loss: 20685.26\n",
      "[ 1.44941242e-01  1.94949534e-01 -4.03138760e-01 -6.34986162e-01\n",
      "  6.66839955e-01 -3.85511516e-01  1.43355797e+00  1.16270904e-01\n",
      "  8.40912089e-01 -2.02977481e-02  1.40758603e-01 -6.02655655e-01\n",
      "  3.08026318e-01  4.59179621e-01  4.81188761e-01  1.87127373e-04\n",
      "  3.08922228e-03  7.71240144e-01 -2.36092746e-02  8.64697756e-03\n",
      "  1.32778953e-01  1.00816627e-02 -5.00501806e-01 -3.76297373e-01\n",
      "  1.36923698e-02  1.82409583e-02  1.28210940e-01  1.35375805e-02\n",
      " -1.05399988e-02 -2.58548821e-01]\n",
      "Jet = 3:\n",
      "Iter: 00000/2000 - Loss: 12021.13\n",
      "Iter: 00100/2000 - Loss: 9498.15\n",
      "Iter: 00200/2000 - Loss: 9402.95\n",
      "Iter: 00300/2000 - Loss: 9358.85\n",
      "Iter: 00400/2000 - Loss: 9334.08\n",
      "Iter: 00500/2000 - Loss: 9319.24\n",
      "Iter: 00600/2000 - Loss: 9309.99\n",
      "Iter: 00700/2000 - Loss: 9304.05\n",
      "Iter: 00800/2000 - Loss: 9300.13\n",
      "Iter: 00900/2000 - Loss: 9297.48\n",
      "Iter: 01000/2000 - Loss: 9295.66\n",
      "Iter: 01100/2000 - Loss: 9294.36\n",
      "Iter: 01200/2000 - Loss: 9293.43\n",
      "Iter: 01300/2000 - Loss: 9292.75\n",
      "Iter: 01400/2000 - Loss: 9292.24\n",
      "Iter: 01500/2000 - Loss: 9291.85\n",
      "Iter: 01600/2000 - Loss: 9291.55\n",
      "Iter: 01700/2000 - Loss: 9291.32\n",
      "Iter: 01800/2000 - Loss: 9291.13\n",
      "Iter: 01900/2000 - Loss: 9290.99\n",
      "[-1.0524938   0.26688113 -0.36379133 -0.5342112   0.71972133 -0.41253862\n",
      "  0.7174952   0.0975101   0.67713911 -0.01461198 -0.06364997 -0.58198148\n",
      "  0.24729692  0.28076252  0.24955442 -0.02305903 -0.0150164   0.59569841\n",
      " -0.01180804  0.00888485  0.06968302  0.0267056  -0.19841444 -0.36282392\n",
      " -0.01041854 -0.01371937 -0.08534294  0.03050045  0.00632372 -0.28849035]\n"
     ]
    }
   ],
   "source": [
    "# Run classification algorithm on train data by jet\n",
    "max_iters = 2000\n",
    "gamma = 1e-5\n",
    "threshold = 1e-8\n",
    "w_by_jet = list()\n",
    "for i, x_tr_jet, y_tr_jet in zip(\n",
    "    range(len(x_tr_by_jet)), x_tr_by_jet, y_tr_by_jet):\n",
    "    print(f'Jet = {i}:')\n",
    "    initial_w = np.zeros((x_tr_jet.shape[1], 1))\n",
    "    w, _ = logistic_regression(y_tr_jet, x_tr_jet, initial_w,\n",
    "                                max_iters, gamma, threshold,\n",
    "                                info=True, sgd=False)\n",
    "    print(w)\n",
    "    w_by_jet.append(w)"
   ]
  },
  {
   "cell_type": "code",
   "execution_count": 14,
   "metadata": {},
   "outputs": [
    {
     "name": "stdout",
     "output_type": "stream",
     "text": [
      "Jet = 0:\n",
      "Accuracy score: 0.82\n",
      "Jet = 1:\n",
      "Accuracy score: 0.71\n",
      "Jet = 2:\n",
      "Accuracy score: 0.74\n",
      "Jet = 3:\n",
      "Accuracy score: 0.73\n"
     ]
    },
    {
     "data": {
      "image/png": "[encoded data removed]",
      "text/plain": [
       "<Figure size 864x864 with 4 Axes>"
      ]
     },
     "metadata": {
      "needs_background": "light"
     },
     "output_type": "display_data"
    }
   ],
   "source": [
    "# Predict test data by jet\n",
    "fig, axs = plt.subplots(ncols=4, figsize=(12, 12))\n",
    "y_pred_by_jet = list()\n",
    "for i, w, x_te_jet, y_te_jet, ax in zip(\n",
    "    range(len(x_te_by_jet)), w_by_jet,x_te_by_jet, y_te_by_jet, axs):\n",
    "    print(f'Jet = {i}:')\n",
    "    x_te_jet = np.c_[np.ones((y_te_jet.shape[0], 1)), x_te_jet]\n",
    "    y_pred = predict_labels(w, x_te_jet, label_b_in=0, label_b_out=0,\n",
    "                            use_sigmoid=True)\n",
    "    y_pred_by_jet.append(y_pred)\n",
    "    print(f'Accuracy score: {accuracy_score(y_te_jet, y_pred):.2f}')\n",
    "    conf_matrix = confusion_matrix(y_te, y_pred)\n",
    "    plot_confusion_matrix(conf_matrix, ax=ax)\n",
    "plt.tight_layout()"
   ]
  },
  {
   "cell_type": "code",
   "execution_count": 15,
   "metadata": {},
   "outputs": [
    {
     "name": "stdout",
     "output_type": "stream",
     "text": [
      "Accuracy score: 0.76\n",
      "Confusion matrix:\n"
     ]
    },
    {
     "data": {
      "image/png": "[encoded data removed]",
      "text/plain": [
       "<Figure size 360x360 with 1 Axes>"
      ]
     },
     "metadata": {
      "needs_background": "light"
     },
     "output_type": "display_data"
    }
   ],
   "source": [
    "# Concatenate results\n",
    "y_te = np.concatenate(y_te_by_jet)\n",
    "y_pred = np.concatenate(y_pred_by_jet)\n",
    "\n",
    "# Global accuracy\n",
    "print(f'Accuracy score: {accuracy_score(y_te, y_pred):.2f}')\n",
    "\n",
    "# Global confusion matrix\n",
    "print('Confusion matrix:')\n",
    "conf_matrix = confusion_matrix(y_te, y_pred)\n",
    "\n",
    "# Plot confusion matrix\n",
    "plot_confusion_matrix(conf_matrix)"
   ]
  }
 ],
 "metadata": {
  "interpreter": {
   "hash": "67f46df4fedc1147d19b4f3a6cf5679c7cf7f9d82857753865a994e15e7e770f"
  },
  "kernelspec": {
   "display_name": "Python 3.8.10 64-bit ('venv': venv)",
   "name": "python3"
  },
  "language_info": {
   "codemirror_mode": {
    "name": "ipython",
    "version": 3
   },
   "file_extension": ".py",
   "mimetype": "text/x-python",
   "name": "python",
   "nbconvert_exporter": "python",
   "pygments_lexer": "ipython3",
   "version": "3.8.10"
  },
  "orig_nbformat": 4
 },
 "nbformat": 4,
 "nbformat_minor": 2
}
