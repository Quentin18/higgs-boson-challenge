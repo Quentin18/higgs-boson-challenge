{
 "cells": [
  {
   "cell_type": "markdown",
   "metadata": {},
   "source": [
    "# Higgs Boson Machine Learning Challenge"
   ]
  },
  {
   "cell_type": "code",
   "execution_count": 1,
   "metadata": {},
   "outputs": [],
   "source": [
    "import matplotlib.pyplot as plt\n",
    "import numpy as np\n",
    "%matplotlib inline\n",
    "%reload_ext autoreload\n",
    "%autoreload 2"
   ]
  },
  {
   "cell_type": "code",
   "execution_count": 2,
   "metadata": {},
   "outputs": [],
   "source": [
    "# Import methods from scripts/\n",
    "from path import (add_src_to_path, create_out_dir, extract_archives,\n",
    "                  DATA_TRAIN_PATH)\n",
    "from proj1_helpers import load_csv_data, predict_labels\n",
    "\n",
    "# Add src to path to import implementations\n",
    "add_src_to_path()\n",
    "\n",
    "# Import functions from src/\n",
    "from clean_data import clean_data_by_jet, get_columns_to_remove_by_jet\n",
    "from implementations import logistic_regression\n",
    "from metrics import accuracy_score, confusion_matrix, get_proportions\n",
    "from plot_utils import plot_confusion_matrix, plot_counts\n",
    "from print_utils import print_shapes, print_shapes_by_jet\n",
    "from split_data import split_by_jet, split_train_test"
   ]
  },
  {
   "cell_type": "code",
   "execution_count": 3,
   "metadata": {},
   "outputs": [],
   "source": [
    "# Extract archives if needed\n",
    "extract_archives()\n",
    "\n",
    "# Create output directory if needed\n",
    "create_out_dir()"
   ]
  },
  {
   "cell_type": "code",
   "execution_count": 4,
   "metadata": {},
   "outputs": [
    {
     "name": "stdout",
     "output_type": "stream",
     "text": [
      "Shape of y: (250000,)\n",
      "Shape of x: (250000, 30)\n"
     ]
    }
   ],
   "source": [
    "# Load the data\n",
    "y, x, ids = load_csv_data(DATA_TRAIN_PATH, sub_sample=False, label_b=0)\n",
    "print_shapes(y, x)"
   ]
  },
  {
   "cell_type": "code",
   "execution_count": 5,
   "metadata": {},
   "outputs": [
    {
     "name": "stdout",
     "output_type": "stream",
     "text": [
      "Proportions: {0: 0.657332, 1: 0.342668}\n"
     ]
    },
    {
     "data": {
      "image/png": "[encoded data removed]",
      "text/plain": [
       "<Figure size 360x360 with 1 Axes>"
      ]
     },
     "metadata": {
      "needs_background": "light"
     },
     "output_type": "display_data"
    }
   ],
   "source": [
    "# Get proportions\n",
    "proportions = get_proportions(y)\n",
    "print('Proportions:', proportions)\n",
    "\n",
    "# Plot counts\n",
    "plot_counts(y, title='Number of non-Boson and Boson observations')"
   ]
  },
  {
   "cell_type": "code",
   "execution_count": 6,
   "metadata": {},
   "outputs": [
    {
     "name": "stdout",
     "output_type": "stream",
     "text": [
      "Jet = 0:\n",
      "Shape of y: (99913,)\n",
      "Shape of x: (99913, 29)\n",
      "Jet = 1:\n",
      "Shape of y: (77544,)\n",
      "Shape of x: (77544, 29)\n",
      "Jet = 2:\n",
      "Shape of y: (50379,)\n",
      "Shape of x: (50379, 29)\n",
      "Jet = 3:\n",
      "Shape of y: (22164,)\n",
      "Shape of x: (22164, 29)\n"
     ]
    }
   ],
   "source": [
    "# Split the data by jet\n",
    "JET_COL = 22\n",
    "MAX_JET = 3\n",
    "y_by_jet, x_by_jet = split_by_jet(y, x, JET_COL, MAX_JET, clean=False)\n",
    "print_shapes_by_jet(y_by_jet, x_by_jet)"
   ]
  },
  {
   "cell_type": "code",
   "execution_count": 7,
   "metadata": {},
   "outputs": [
    {
     "data": {
      "image/png": "[encoded data removed]",
      "text/plain": [
       "<Figure size 720x360 with 4 Axes>"
      ]
     },
     "metadata": {
      "needs_background": "light"
     },
     "output_type": "display_data"
    }
   ],
   "source": [
    "# Plot counts\n",
    "fig, axs = plt.subplots(ncols=4, figsize=(10, 5))\n",
    "for i, y_jet, ax in zip(range(MAX_JET + 1), y_by_jet, axs):\n",
    "    plot_counts(y_jet, f'Jet = {i}', ax)\n",
    "plt.tight_layout()"
   ]
  },
  {
   "cell_type": "code",
   "execution_count": 8,
   "metadata": {},
   "outputs": [
    {
     "name": "stdout",
     "output_type": "stream",
     "text": [
      "Jet = 0: [ 4  5  6 12 22 23 24 25 26 27 28]\n",
      "Jet = 1: [ 4  5  6 12 25 26 27]\n",
      "Jet = 2: []\n",
      "Jet = 3: []\n"
     ]
    }
   ],
   "source": [
    "# Get columns to remove by jet\n",
    "cols_to_remove_by_jet = get_columns_to_remove_by_jet(x_by_jet)\n",
    "for i in range(MAX_JET + 1):\n",
    "    print(f'Jet = {i}:', cols_to_remove_by_jet[i])"
   ]
  },
  {
   "cell_type": "code",
   "execution_count": 9,
   "metadata": {},
   "outputs": [
    {
     "name": "stdout",
     "output_type": "stream",
     "text": [
      "Jet = 0:\n",
      "Shape of y: (99913,)\n",
      "Shape of x: (99913, 18)\n",
      "Jet = 1:\n",
      "Shape of y: (77544,)\n",
      "Shape of x: (77544, 22)\n",
      "Jet = 2:\n",
      "Shape of y: (50379,)\n",
      "Shape of x: (50379, 29)\n",
      "Jet = 3:\n",
      "Shape of y: (22164,)\n",
      "Shape of x: (22164, 29)\n"
     ]
    }
   ],
   "source": [
    "# Clean data by jet\n",
    "clean_data_by_jet(x_by_jet)\n",
    "print_shapes_by_jet(y_by_jet, x_by_jet)"
   ]
  },
  {
   "cell_type": "code",
   "execution_count": 10,
   "metadata": {},
   "outputs": [
    {
     "name": "stdout",
     "output_type": "stream",
     "text": [
      "Training data:\n",
      "Shape of y: (200000,)\n",
      "Shape of x: (200000, 30)\n",
      "Test data:\n",
      "Shape of y: (50000,)\n",
      "Shape of x: (50000, 30)\n"
     ]
    }
   ],
   "source": [
    "# Split data\n",
    "SPLIT_RATIO = 0.8\n",
    "x_tr, x_te, y_tr, y_te = split_train_test(y, x, SPLIT_RATIO)\n",
    "print('Training data:')\n",
    "print_shapes(y_tr, x_tr)\n",
    "print('Test data:')\n",
    "print_shapes(y_te, x_te)"
   ]
  },
  {
   "cell_type": "code",
   "execution_count": 11,
   "metadata": {},
   "outputs": [
    {
     "name": "stdout",
     "output_type": "stream",
     "text": [
      "Jet = 0:\n",
      "Shape of y: (79923,)\n",
      "Shape of x: (79923, 18)\n",
      "Jet = 1:\n",
      "Shape of y: (61985,)\n",
      "Shape of x: (61985, 22)\n",
      "Jet = 2:\n",
      "Shape of y: (40333,)\n",
      "Shape of x: (40333, 29)\n",
      "Jet = 3:\n",
      "Shape of y: (17759,)\n",
      "Shape of x: (17759, 29)\n"
     ]
    }
   ],
   "source": [
    "# Split train data by jet\n",
    "y_tr_by_jet, x_tr_by_jet = split_by_jet(y_tr, x_tr, clean=True)\n",
    "print_shapes_by_jet(y_tr_by_jet, x_tr_by_jet)"
   ]
  },
  {
   "cell_type": "code",
   "execution_count": 12,
   "metadata": {},
   "outputs": [
    {
     "name": "stdout",
     "output_type": "stream",
     "text": [
      "Jet = 0:\n",
      "Shape of y: (19990,)\n",
      "Shape of x: (19990, 18)\n",
      "Jet = 1:\n",
      "Shape of y: (15559,)\n",
      "Shape of x: (15559, 22)\n",
      "Jet = 2:\n",
      "Shape of y: (10046,)\n",
      "Shape of x: (10046, 29)\n",
      "Jet = 3:\n",
      "Shape of y: (4405,)\n",
      "Shape of x: (4405, 29)\n"
     ]
    }
   ],
   "source": [
    "# Split test data by jet\n",
    "y_te_by_jet, x_te_by_jet = split_by_jet(y_te, x_te)\n",
    "clean_data_by_jet(x_te_by_jet)\n",
    "print_shapes_by_jet(y_te_by_jet, x_te_by_jet)"
   ]
  },
  {
   "cell_type": "code",
   "execution_count": 13,
   "metadata": {},
   "outputs": [
    {
     "name": "stdout",
     "output_type": "stream",
     "text": [
      "Jet = 0:\n",
      "[-1.33164589  0.15840387 -0.52382258 -0.37331712 -0.09267788  0.36835759\n",
      " -0.09267806  0.27117259 -0.37975773  0.09701644  0.43445621  0.00230557\n",
      "  0.05596615 -0.01403198  0.04803828 -0.00502432 -0.13784215  0.08524785\n",
      "  0.06529919]\n",
      "Jet = 1:\n",
      "[-0.67472443  0.20571772 -0.39652047 -0.30496666  0.03408391  0.45194851\n",
      "  0.18883402  0.1307336  -0.34452539  0.29807902  0.16748915 -0.04301956\n",
      " -0.04115     0.06315732 -0.08960572  0.00691918 -0.04118364 -0.13651921\n",
      "  0.10571777  0.0803544   0.05430885 -0.03410204  0.08035465]\n",
      "Jet = 2:\n",
      "[-0.04332441  0.2523483  -0.18391814 -0.08127825  0.3036597   0.23077473\n",
      "  0.42756252 -0.11244473  0.1819238  -0.026647    0.13162756 -0.16455883\n",
      "  0.23203503  0.44664665  0.34489902  0.02269357 -0.02227277  0.20773186\n",
      "  0.05782186  0.02833075  0.07147356 -0.09495528 -0.26125777 -0.1242476\n",
      "  0.07212797 -0.03900568  0.22561294  0.10372295  0.00137398 -0.02529141]\n",
      "Jet = 3:\n",
      "[-0.98939949  0.14729072 -0.24243327 -0.04602498  0.19232656  0.12071046\n",
      "  0.35395341  0.0546091   0.12503879 -0.12921713 -0.04231998 -0.16900057\n",
      "  0.20179849  0.26771832  0.2288384  -0.04473878  0.00166627  0.13178871\n",
      " -0.02467426 -0.00119602  0.0947843   0.0271959  -0.13766748 -0.09526396\n",
      " -0.11331275 -0.02158147 -0.19062519  0.06595341  0.04878622 -0.14046186]\n"
     ]
    }
   ],
   "source": [
    "# Run classification algorithm on train data by jet\n",
    "max_iters = 2000\n",
    "gamma = 1e-2\n",
    "threshold = 1e-8\n",
    "w_by_jet = list()\n",
    "for i, x_tr_jet, y_tr_jet in zip(\n",
    "    range(len(x_tr_by_jet)), x_tr_by_jet, y_tr_by_jet):\n",
    "    print(f'Jet = {i}:')\n",
    "    initial_w = np.zeros((x_tr_jet.shape[1], 1))\n",
    "    w, _ = logistic_regression(y_tr_jet, x_tr_jet, initial_w,\n",
    "                                max_iters, gamma, threshold,\n",
    "                                info=False, sgd=True)\n",
    "    print(w)\n",
    "    w_by_jet.append(w)"
   ]
  },
  {
   "cell_type": "code",
   "execution_count": 14,
   "metadata": {},
   "outputs": [
    {
     "name": "stdout",
     "output_type": "stream",
     "text": [
      "Jet = 0:\n",
      "Accuracy score: 0.80\n",
      "Jet = 1:\n",
      "Accuracy score: 0.67\n",
      "Jet = 2:\n",
      "Accuracy score: 0.71\n",
      "Jet = 3:\n",
      "Accuracy score: 0.72\n"
     ]
    },
    {
     "data": {
      "image/png": "[encoded data removed]",
      "text/plain": [
       "<Figure size 864x864 with 4 Axes>"
      ]
     },
     "metadata": {
      "needs_background": "light"
     },
     "output_type": "display_data"
    }
   ],
   "source": [
    "# Predict test data by jet\n",
    "fig, axs = plt.subplots(ncols=4, figsize=(12, 12))\n",
    "y_pred_by_jet = list()\n",
    "for i, w, x_te_jet, y_te_jet, ax in zip(\n",
    "    range(len(x_te_by_jet)), w_by_jet,x_te_by_jet, y_te_by_jet, axs):\n",
    "    print(f'Jet = {i}:')\n",
    "    x_te_jet = np.c_[np.ones((y_te_jet.shape[0], 1)), x_te_jet]\n",
    "    y_pred = predict_labels(w, x_te_jet, label_b_in=0, label_b_out=0)\n",
    "    y_pred_by_jet.append(y_pred)\n",
    "    print(f'Accuracy score: {accuracy_score(y_te_jet, y_pred):.2f}')\n",
    "    conf_matrix = confusion_matrix(y_te, y_pred)\n",
    "    plot_confusion_matrix(conf_matrix, ax=ax)\n",
    "plt.tight_layout()"
   ]
  },
  {
   "cell_type": "code",
   "execution_count": 15,
   "metadata": {},
   "outputs": [
    {
     "name": "stdout",
     "output_type": "stream",
     "text": [
      "Accuracy score: 0.73\n",
      "Confusion matrix:\n"
     ]
    },
    {
     "data": {
      "image/png": "[encoded data removed]",
      "text/plain": [
       "<Figure size 360x360 with 1 Axes>"
      ]
     },
     "metadata": {
      "needs_background": "light"
     },
     "output_type": "display_data"
    }
   ],
   "source": [
    "# Concatenate results\n",
    "y_te = np.concatenate(y_te_by_jet)\n",
    "y_pred = np.concatenate(y_pred_by_jet)\n",
    "\n",
    "# Global accuracy\n",
    "print(f'Accuracy score: {accuracy_score(y_te, y_pred):.2f}')\n",
    "\n",
    "# Global confusion matrix\n",
    "print('Confusion matrix:')\n",
    "conf_matrix = confusion_matrix(y_te, y_pred)\n",
    "\n",
    "# Plot confusion matrix\n",
    "plot_confusion_matrix(conf_matrix)"
   ]
  }
 ],
 "metadata": {
  "interpreter": {
   "hash": "67f46df4fedc1147d19b4f3a6cf5679c7cf7f9d82857753865a994e15e7e770f"
  },
  "kernelspec": {
   "display_name": "Python 3.8.10 64-bit ('venv': venv)",
   "name": "python3"
  },
  "language_info": {
   "codemirror_mode": {
    "name": "ipython",
    "version": 3
   },
   "file_extension": ".py",
   "mimetype": "text/x-python",
   "name": "python",
   "nbconvert_exporter": "python",
   "pygments_lexer": "ipython3",
   "version": "3.8.10"
  },
  "orig_nbformat": 4
 },
 "nbformat": 4,
 "nbformat_minor": 2
}
