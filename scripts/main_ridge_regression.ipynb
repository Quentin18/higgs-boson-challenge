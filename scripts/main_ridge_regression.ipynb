{
 "cells": [
  {
   "cell_type": "markdown",
   "metadata": {},
   "source": [
    "# Higgs Boson Challenge: Ridge regression\n",
    "\n",
    "In this notebook, we use the training dataset to compute the accuracy score of the ridge regression algorithm. We use polynomial expansion with the parameters obtained by cross validation."
   ]
  },
  {
   "cell_type": "code",
   "execution_count": 1,
   "metadata": {},
   "outputs": [],
   "source": [
    "import matplotlib.pyplot as plt\n",
    "import numpy as np\n",
    "\n",
    "%matplotlib inline\n",
    "%reload_ext autoreload\n",
    "%autoreload 2"
   ]
  },
  {
   "cell_type": "code",
   "execution_count": 2,
   "metadata": {},
   "outputs": [],
   "source": [
    "# Import methods from scripts/\n",
    "from path import add_src_to_path, load_json_parameters, DATA_TRAIN_PATH\n",
    "\n",
    "# Add src/ to path to import functions\n",
    "add_src_to_path()\n",
    "\n",
    "# Import functions from src/\n",
    "from clean_data import clean_train_test_data_by_jet, get_columns_to_remove_by_jet\n",
    "from cross_validation import build_poly\n",
    "from csv_utils import load_csv_data\n",
    "from helpers import predict_labels\n",
    "from implementations import ridge_regression\n",
    "from metrics import accuracy_score, confusion_matrix, get_proportions\n",
    "from plot_utils import plot_accuracies, plot_confusion_matrix, plot_counts\n",
    "from print_utils import (get_subset_label, print_shapes, print_shapes_by_jet,\n",
    "                         print_subset_label, NB_SUBSETS)\n",
    "from split_data import split_by_jet, split_train_test, NB_SUBSETS"
   ]
  },
  {
   "cell_type": "code",
   "execution_count": 3,
   "metadata": {},
   "outputs": [
    {
     "name": "stdout",
     "output_type": "stream",
     "text": [
      "Shape of y: (250000,)\n",
      "Shape of x: (250000, 30)\n"
     ]
    }
   ],
   "source": [
    "# Load data\n",
    "y, x, ids = load_csv_data(DATA_TRAIN_PATH)\n",
    "print_shapes(y, x)"
   ]
  },
  {
   "cell_type": "markdown",
   "metadata": {},
   "source": [
    "## Data exploration\n",
    "\n",
    "We show the proportions of labels in the dataset and in the subsets."
   ]
  },
  {
   "cell_type": "code",
   "execution_count": 4,
   "metadata": {},
   "outputs": [
    {
     "name": "stdout",
     "output_type": "stream",
     "text": [
      "Proportions: {-1: 0.657332, 1: 0.342668}\n"
     ]
    },
    {
     "data": {
      "image/png": "[encoded data removed]",
      "text/plain": [
       "<Figure size 360x360 with 1 Axes>"
      ]
     },
     "metadata": {
      "needs_background": "light"
     },
     "output_type": "display_data"
    }
   ],
   "source": [
    "# Get proportions\n",
    "proportions = get_proportions(y)\n",
    "print('Proportions:', proportions)\n",
    "\n",
    "# Plot counts\n",
    "plot_counts(y, title='Proportions of labels')"
   ]
  },
  {
   "cell_type": "code",
   "execution_count": 5,
   "metadata": {},
   "outputs": [
    {
     "name": "stdout",
     "output_type": "stream",
     "text": [
      "JET = 0:\n",
      "Shape of y: (99913,)\n",
      "Shape of x: (99913, 29)\n",
      "JET = 1:\n",
      "Shape of y: (77544,)\n",
      "Shape of x: (77544, 29)\n",
      "JET >= 2:\n",
      "Shape of y: (72543,)\n",
      "Shape of x: (72543, 29)\n"
     ]
    }
   ],
   "source": [
    "# Split the data by jet\n",
    "y_by_jet, x_by_jet, _ = split_by_jet(y, x, ids)\n",
    "print_shapes_by_jet(y_by_jet, x_by_jet)"
   ]
  },
  {
   "cell_type": "code",
   "execution_count": 6,
   "metadata": {},
   "outputs": [
    {
     "data": {
      "image/png": "[encoded data removed]",
      "text/plain": [
       "<Figure size 720x360 with 3 Axes>"
      ]
     },
     "metadata": {
      "needs_background": "light"
     },
     "output_type": "display_data"
    }
   ],
   "source": [
    "# Plot counts\n",
    "fig, axs = plt.subplots(ncols=3, figsize=(10, 5))\n",
    "for i in range(NB_SUBSETS):\n",
    "    plot_counts(y_by_jet[i], get_subset_label(i), axs[i])\n",
    "plt.tight_layout()"
   ]
  },
  {
   "cell_type": "markdown",
   "metadata": {},
   "source": [
    "We check the columns to remove for each subset."
   ]
  },
  {
   "cell_type": "code",
   "execution_count": 7,
   "metadata": {},
   "outputs": [
    {
     "name": "stdout",
     "output_type": "stream",
     "text": [
      "JET = 0\n",
      "[ 4  5  6 12 22 23 24 25 26 27 28]\n",
      "JET = 1\n",
      "[ 4  5  6 12 25 26 27]\n",
      "JET >= 2\n",
      "[]\n"
     ]
    }
   ],
   "source": [
    "# Get columns to remove for each subset\n",
    "cols_to_remove = get_columns_to_remove_by_jet(y_by_jet, x_by_jet)\n",
    "for i in range(NB_SUBSETS):\n",
    "    print(get_subset_label(i))\n",
    "    print(cols_to_remove[i])"
   ]
  },
  {
   "cell_type": "markdown",
   "metadata": {},
   "source": [
    "## Data splitting"
   ]
  },
  {
   "cell_type": "code",
   "execution_count": 8,
   "metadata": {},
   "outputs": [
    {
     "name": "stdout",
     "output_type": "stream",
     "text": [
      "Train:\n",
      "Shape of y: (200000,)\n",
      "Shape of x: (200000, 30)\n",
      "Test:\n",
      "Shape of y: (50000,)\n",
      "Shape of x: (50000, 30)\n"
     ]
    }
   ],
   "source": [
    "# Split data train test\n",
    "x_tr, x_te, y_tr, y_te = split_train_test(y, x)\n",
    "print('Train:')\n",
    "print_shapes(y_tr, x_tr)\n",
    "print('Test:')\n",
    "print_shapes(y_te, x_te)"
   ]
  },
  {
   "cell_type": "code",
   "execution_count": 9,
   "metadata": {},
   "outputs": [
    {
     "name": "stdout",
     "output_type": "stream",
     "text": [
      "JET = 0:\n",
      "Shape of y: (79923,)\n",
      "Shape of x: (79923, 29)\n",
      "JET = 1:\n",
      "Shape of y: (61985,)\n",
      "Shape of x: (61985, 29)\n",
      "JET >= 2:\n",
      "Shape of y: (58092,)\n",
      "Shape of x: (58092, 29)\n"
     ]
    }
   ],
   "source": [
    "# Split train data by jet\n",
    "y_tr_by_jet, x_tr_by_jet, _ = split_by_jet(y_tr, x_tr)\n",
    "print_shapes_by_jet(y_tr_by_jet, x_tr_by_jet)"
   ]
  },
  {
   "cell_type": "code",
   "execution_count": 10,
   "metadata": {},
   "outputs": [
    {
     "name": "stdout",
     "output_type": "stream",
     "text": [
      "JET = 0:\n",
      "Shape of y: (19990,)\n",
      "Shape of x: (19990, 29)\n",
      "JET = 1:\n",
      "Shape of y: (15559,)\n",
      "Shape of x: (15559, 29)\n",
      "JET >= 2:\n",
      "Shape of y: (14451,)\n",
      "Shape of x: (14451, 29)\n"
     ]
    }
   ],
   "source": [
    "# Split test data by jet\n",
    "y_te_by_jet, x_te_by_jet, _ = split_by_jet(y_te, x_te)\n",
    "print_shapes_by_jet(y_te_by_jet, x_te_by_jet)"
   ]
  },
  {
   "cell_type": "markdown",
   "metadata": {},
   "source": [
    "## Data cleaning"
   ]
  },
  {
   "cell_type": "code",
   "execution_count": 11,
   "metadata": {},
   "outputs": [],
   "source": [
    "# Clean train and test data by jet\n",
    "y_tr_by_jet, x_tr_by_jet, y_te_by_jet, x_te_by_jet = clean_train_test_data_by_jet(\n",
    "    y_tr_by_jet, x_tr_by_jet, y_te_by_jet, x_te_by_jet\n",
    ")"
   ]
  },
  {
   "cell_type": "code",
   "execution_count": 12,
   "metadata": {},
   "outputs": [
    {
     "name": "stdout",
     "output_type": "stream",
     "text": [
      "JET = 0:\n",
      "Shape of y: (79923,)\n",
      "Shape of x: (79923, 18)\n",
      "JET = 1:\n",
      "Shape of y: (61985,)\n",
      "Shape of x: (61985, 22)\n",
      "JET >= 2:\n",
      "Shape of y: (58092,)\n",
      "Shape of x: (58092, 29)\n"
     ]
    }
   ],
   "source": [
    "# Shape of train data\n",
    "print_shapes_by_jet(y_tr_by_jet, x_tr_by_jet)"
   ]
  },
  {
   "cell_type": "code",
   "execution_count": 13,
   "metadata": {},
   "outputs": [
    {
     "name": "stdout",
     "output_type": "stream",
     "text": [
      "JET = 0:\n",
      "Shape of y: (19990,)\n",
      "Shape of x: (19990, 18)\n",
      "JET = 1:\n",
      "Shape of y: (15559,)\n",
      "Shape of x: (15559, 22)\n",
      "JET >= 2:\n",
      "Shape of y: (14451,)\n",
      "Shape of x: (14451, 29)\n"
     ]
    }
   ],
   "source": [
    "# Shape of test data\n",
    "print_shapes_by_jet(y_te_by_jet, x_te_by_jet)"
   ]
  },
  {
   "cell_type": "markdown",
   "metadata": {},
   "source": [
    "## Load parameters"
   ]
  },
  {
   "cell_type": "code",
   "execution_count": 14,
   "metadata": {},
   "outputs": [
    {
     "name": "stdout",
     "output_type": "stream",
     "text": [
      "Lambda by subset: [0.001, 0.001, 0.001]\n",
      "Degree by subset: [13, 14, 13]\n"
     ]
    }
   ],
   "source": [
    "# Load parameters\n",
    "params = load_json_parameters()\n",
    "lambdas = params['ridge_regression']['lambda_']\n",
    "degrees = params['ridge_regression']['degree']\n",
    "print('Lambda by subset:', lambdas)\n",
    "print('Degree by subset:', degrees)"
   ]
  },
  {
   "cell_type": "markdown",
   "metadata": {},
   "source": [
    "## Run algorithm\n",
    "\n",
    "We run the ridge regression algorithm with polynomial expansion on each subset."
   ]
  },
  {
   "cell_type": "code",
   "execution_count": 15,
   "metadata": {},
   "outputs": [
    {
     "name": "stdout",
     "output_type": "stream",
     "text": [
      "JET = 0:\n",
      "Loss: 0.228\n",
      "JET = 1:\n",
      "Loss: 0.282\n",
      "JET >= 2:\n",
      "Loss: 0.250\n"
     ]
    }
   ],
   "source": [
    "# Run ridge regression\n",
    "w_by_jet = list()\n",
    "\n",
    "for i in range(NB_SUBSETS):\n",
    "    print_subset_label(i)\n",
    "\n",
    "    # Get train subset\n",
    "    x_tr_jet, y_tr_jet = x_tr_by_jet[i], y_tr_by_jet[i]\n",
    "\n",
    "    # Build polynomial basis\n",
    "    phi_tr_jet = build_poly(x_tr_jet, degrees[i])\n",
    "\n",
    "    # Run ridge regression\n",
    "    w, loss = ridge_regression(y_tr_jet, phi_tr_jet, lambdas[i], verbose=True)\n",
    "\n",
    "    # Add weights to list\n",
    "    w_by_jet.append(w)"
   ]
  },
  {
   "cell_type": "markdown",
   "metadata": {},
   "source": [
    "## Predictions\n",
    "\n",
    "We predict the labels of each testing subset."
   ]
  },
  {
   "cell_type": "code",
   "execution_count": 16,
   "metadata": {},
   "outputs": [],
   "source": [
    "# Predict test data by jet\n",
    "y_pred_by_jet = list()\n",
    "accuracies = list()\n",
    "conf_matrices = list()\n",
    "\n",
    "for i in range(NB_SUBSETS):\n",
    "    # Get subset\n",
    "    x_te_jet, y_te_jet, w = x_te_by_jet[i], y_te_by_jet[i], w_by_jet[i]\n",
    "\n",
    "    # Build polynomial basis\n",
    "    phi_te_jet = build_poly(x_te_jet, degrees[i])\n",
    "\n",
    "    # Predict labels\n",
    "    y_pred = predict_labels(w, phi_te_jet)\n",
    "    y_pred_by_jet.append(y_pred)\n",
    "\n",
    "    # Accuracy score\n",
    "    accuracy = accuracy_score(y_te_jet, y_pred)\n",
    "    accuracies.append(accuracy)\n",
    "\n",
    "    # Confusion matrix\n",
    "    conf_matrix = confusion_matrix(y_te_jet, y_pred)\n",
    "    conf_matrices.append(conf_matrix)"
   ]
  },
  {
   "cell_type": "markdown",
   "metadata": {},
   "source": [
    "We concatenate the predictions."
   ]
  },
  {
   "cell_type": "code",
   "execution_count": 17,
   "metadata": {},
   "outputs": [
    {
     "name": "stdout",
     "output_type": "stream",
     "text": [
      "Accuracy = 0.82834\n"
     ]
    },
    {
     "data": {
      "image/png": "[encoded data removed]",
      "text/plain": [
       "<Figure size 360x360 with 1 Axes>"
      ]
     },
     "metadata": {
      "needs_background": "light"
     },
     "output_type": "display_data"
    }
   ],
   "source": [
    "# Concatenate results\n",
    "y_te = np.concatenate(y_te_by_jet)\n",
    "y_pred = np.concatenate(y_pred_by_jet)\n",
    "\n",
    "# Global accuracy\n",
    "global_accuracy = accuracy_score(y_te, y_pred)\n",
    "print('Accuracy =', global_accuracy)\n",
    "\n",
    "# Global confusion matrix\n",
    "global_conf_matrix = confusion_matrix(y_te, y_pred)\n",
    "plot_confusion_matrix(global_conf_matrix)"
   ]
  },
  {
   "cell_type": "code",
   "execution_count": 18,
   "metadata": {},
   "outputs": [
    {
     "data": {
      "image/png": "[encoded data removed]",
      "text/plain": [
       "<Figure size 576x576 with 4 Axes>"
      ]
     },
     "metadata": {
      "needs_background": "light"
     },
     "output_type": "display_data"
    }
   ],
   "source": [
    "# Plot confusion matrices\n",
    "plt.figure(figsize=(8, 8))\n",
    "\n",
    "# Plot subset matrices\n",
    "for i in range(NB_SUBSETS):\n",
    "    ax = plt.subplot(2, 2, i + 1)\n",
    "    plot_confusion_matrix(conf_matrices[i], ax=ax, title=get_subset_label(i))\n",
    "\n",
    "# Plot global matrix\n",
    "ax = plt.subplot(2, 2, 4)\n",
    "plot_confusion_matrix(global_conf_matrix, ax=ax, title='Global')\n",
    "\n",
    "plt.suptitle('Confusion matrices with ridge regression')\n",
    "plt.tight_layout()"
   ]
  },
  {
   "cell_type": "code",
   "execution_count": 19,
   "metadata": {},
   "outputs": [
    {
     "data": {
      "image/png": "[encoded data removed]",
      "text/plain": [
       "<Figure size 432x288 with 1 Axes>"
      ]
     },
     "metadata": {
      "needs_background": "light"
     },
     "output_type": "display_data"
    }
   ],
   "source": [
    "# Plot accuracies\n",
    "plot_accuracies(accuracies + [global_accuracy],\n",
    "                title='Accuracies with ridge regression')\n",
    "plt.tight_layout()"
   ]
  }
 ],
 "metadata": {
  "interpreter": {
   "hash": "916dbcbb3f70747c44a77c7bcd40155683ae19c65e1c03b4aa3499c5328201f1"
  },
  "kernelspec": {
   "display_name": "Python 3.8.10 64-bit",
   "name": "python3"
  },
  "language_info": {
   "codemirror_mode": {
    "name": "ipython",
    "version": 3
   },
   "file_extension": ".py",
   "mimetype": "text/x-python",
   "name": "python",
   "nbconvert_exporter": "python",
   "pygments_lexer": "ipython3",
   "version": "3.8.10"
  },
  "orig_nbformat": 4
 },
 "nbformat": 4,
 "nbformat_minor": 2
}
